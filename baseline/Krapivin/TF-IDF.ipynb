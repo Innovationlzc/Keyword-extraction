{
 "cells": [
  {
   "cell_type": "code",
   "execution_count": 2,
   "id": "174a0b87",
   "metadata": {},
   "outputs": [
    {
     "name": "stdout",
     "output_type": "stream",
     "text": [
      "[评估结果]\n",
      "Average Precision@5: 0.1924\n",
      "Average Recall: 0.1082\n",
      "Average F1 Score: 0.1330\n",
      "Average Cosine Similarity: 0.1410\n"
     ]
    }
   ],
   "source": [
    "import os\n",
    "import glob\n",
    "from sklearn.feature_extraction.text import TfidfVectorizer\n",
    "import numpy as np\n",
    "\n",
    "# 设置路径和参数\n",
    "train_path = r'E:\\HKULearning\\2025 spring\\STAT8021\\group work\\Krapivin\\krapivin-2009-pre-master\\src\\all_docs_abstacts_refined'\n",
    "K = 5  # 提取的关键词数量\n",
    "\n",
    "# 读取训练数据和真实关键词\n",
    "corpus = []\n",
    "true_keywords_list = []\n",
    "\n",
    "for txt_file in glob.glob(os.path.join(train_path, '*.txt')):\n",
    "    with open(txt_file, 'r', encoding='utf-8') as f:\n",
    "        corpus.append(f.read())\n",
    "    \n",
    "    base_name = os.path.splitext(os.path.basename(txt_file))[0]\n",
    "    key_file = os.path.join(train_path, f'{base_name}.key')\n",
    "    keywords = []\n",
    "    if os.path.exists(key_file):\n",
    "        with open(key_file, 'r', encoding='utf-8') as kf:\n",
    "            for line in kf:\n",
    "                keywords.extend(line.strip().lower().split())\n",
    "    true_keywords_list.append(set(keywords))\n",
    "\n",
    "# 训练TF-IDF模型\n",
    "vectorizer = TfidfVectorizer()\n",
    "tfidf_matrix = vectorizer.fit_transform(corpus)\n",
    "feature_names = vectorizer.get_feature_names_out()\n",
    "\n",
    "# 提取Top K关键词\n",
    "predicted_keywords_list = []\n",
    "for i in range(tfidf_matrix.shape[0]):\n",
    "    vector = tfidf_matrix[i].toarray().flatten()\n",
    "    top_k_indices = np.argsort(vector)[-K:][::-1]\n",
    "    top_k_words = [feature_names[idx] for idx in top_k_indices if vector[idx] > 0]\n",
    "    predicted_keywords_list.append(set(top_k_words))\n",
    "\n",
    "# 计算评估指标\n",
    "precisions, recalls, f1_scores = [], [], []\n",
    "for true_set, pred_set in zip(true_keywords_list, predicted_keywords_list):\n",
    "    tp = len(true_set & pred_set)\n",
    "    # Precision@K\n",
    "    precision = tp / K\n",
    "    precisions.append(precision)\n",
    "    \n",
    "    # Recall\n",
    "    true_len = len(true_set)\n",
    "    if true_len == 0:\n",
    "        recall = 0.0  # 若真实关键词为空则跳过\n",
    "    else:\n",
    "        recall = tp / true_len\n",
    "    recalls.append(recall)\n",
    "    \n",
    "    # F1 Score\n",
    "    if (precision + recall) == 0:\n",
    "        f1 = 0.0\n",
    "    else:\n",
    "        f1 = 2 * (precision * recall) / (precision + recall)\n",
    "    f1_scores.append(f1)\n",
    "\n",
    "# 输出结果\n",
    "print(f\"[评估结果]\")\n",
    "print(f\"Average Precision@{K}: {np.mean(precisions):.4f}\")\n",
    "print(f\"Average Recall: {np.mean(recalls):.4f}\")\n",
    "print(f\"Average F1 Score: {np.mean(f1_scores):.4f}\")\n",
    "print(f\"Average Cosine Similarity: {np.mean(cosine_similarities):.4f}\")  # 原有余弦相似度计算保留"
   ]
  },
  {
   "cell_type": "code",
   "execution_count": null,
   "id": "90a0cecf",
   "metadata": {},
   "outputs": [],
   "source": []
  }
 ],
 "metadata": {
  "kernelspec": {
   "display_name": "Python [conda env:py38]",
   "language": "python",
   "name": "conda-env-py38-py"
  },
  "language_info": {
   "codemirror_mode": {
    "name": "ipython",
    "version": 3
   },
   "file_extension": ".py",
   "mimetype": "text/x-python",
   "name": "python",
   "nbconvert_exporter": "python",
   "pygments_lexer": "ipython3",
   "version": "3.8.15"
  }
 },
 "nbformat": 4,
 "nbformat_minor": 5
}
